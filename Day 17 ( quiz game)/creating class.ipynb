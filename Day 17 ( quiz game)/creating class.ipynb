{
 "cells": [
  {
   "cell_type": "code",
   "execution_count": null,
   "id": "ff8b48df",
   "metadata": {},
   "outputs": [],
   "source": [
    "class User:\n",
    "    def __init__(self):\n",
    "\n",
    "        print(\"new user being created...\")\n",
    "\n",
    "user_1=User()\n",
    "user_1.id=\"jack\"\n",
    "user_1.name=\"sopha\"\n",
    "\n",
    "print(user_1.name)"
   ]
  },
  {
   "cell_type": "code",
   "execution_count": 10,
   "id": "0d55dfa8",
   "metadata": {},
   "outputs": [
    {
     "name": "stdout",
     "output_type": "stream",
     "text": [
      "0\n",
      "1\n",
      "1\n",
      "0\n"
     ]
    }
   ],
   "source": [
    "class User:\n",
    "    def __init__(self,user_id,username):\n",
    "        self.id=user_id\n",
    "        self.username=username\n",
    "        self.followers=0\n",
    "        self.following=0\n",
    "    \n",
    "    def follow(self,user):\n",
    "        user.followers+=1\n",
    "        self.following+=1\n",
    "\n",
    "\n",
    "user_1=User(90,\"jack\")\n",
    "user_2=User(45,\"sophia\")\n",
    "user_1.follow(user_2)\n",
    "print(user_1.followers)\n",
    "print(user_1.following)\n",
    "print(user_2.followers)\n",
    "print(user_2.following)\n"
   ]
  }
 ],
 "metadata": {
  "kernelspec": {
   "display_name": "Python 3",
   "language": "python",
   "name": "python3"
  },
  "language_info": {
   "codemirror_mode": {
    "name": "ipython",
    "version": 3
   },
   "file_extension": ".py",
   "mimetype": "text/x-python",
   "name": "python",
   "nbconvert_exporter": "python",
   "pygments_lexer": "ipython3",
   "version": "3.12.1"
  }
 },
 "nbformat": 4,
 "nbformat_minor": 5
}
