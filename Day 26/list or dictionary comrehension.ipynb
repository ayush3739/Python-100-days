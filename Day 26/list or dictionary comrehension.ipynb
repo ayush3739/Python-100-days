{
 "cells": [
  {
   "cell_type": "markdown",
   "id": "07b75ea8",
   "metadata": {},
   "source": [
    "## list comprehension\n"
   ]
  },
  {
   "cell_type": "code",
   "execution_count": null,
   "id": "1c5316df",
   "metadata": {},
   "outputs": [],
   "source": [
    "# adding 1 in each no. \n",
    "num=[1,2,3]\n",
    "new_num=[n+1 for n in num]\n",
    "print(new_num)"
   ]
  },
  {
   "cell_type": "code",
   "execution_count": null,
   "id": "390ef4ee",
   "metadata": {},
   "outputs": [],
   "source": [
    "name=\"Angela\"\n",
    "new_list=[letter for letter in name]\n",
    "print(new_list)"
   ]
  },
  {
   "cell_type": "code",
   "execution_count": null,
   "id": "ac050cbf",
   "metadata": {},
   "outputs": [],
   "source": [
    "range_list=[i*2 for i in range(1,5)]\n",
    "print(range_list)"
   ]
  },
  {
   "cell_type": "code",
   "execution_count": null,
   "id": "529e1eb5",
   "metadata": {},
   "outputs": [],
   "source": [
    "numbers=[1,1,2,3,5,8,13,21,34,55]\n",
    "squared_num=[i**2 for i in numbers]\n",
    "print(squared_num)"
   ]
  },
  {
   "cell_type": "markdown",
   "id": "7a7f9d62",
   "metadata": {},
   "source": [
    "## conditional comprehension "
   ]
  },
  {
   "cell_type": "code",
   "execution_count": null,
   "id": "678ce238",
   "metadata": {},
   "outputs": [],
   "source": [
    "names=['ayush','alok','aman','kishan','yash']\n",
    "short_names=[name for name in names if len(name)<5]\n",
    "print(short_names)\n",
    "cap_names=[name.upper() for name in names if len(name)>4]\n",
    "print(cap_names)\n"
   ]
  },
  {
   "cell_type": "code",
   "execution_count": null,
   "id": "a0099b6b",
   "metadata": {},
   "outputs": [],
   "source": [
    "numbers = [1, 1, 2, 3, 5, 8, 13, 21, 34, 55]\n",
    "even_list=[num for num in numbers if num%2==0]\n",
    "print(even_list)\n"
   ]
  },
  {
   "cell_type": "markdown",
   "id": "d087ca5c",
   "metadata": {},
   "source": [
    "### reading from file1 and file2"
   ]
  },
  {
   "cell_type": "code",
   "execution_count": null,
   "id": "715745db",
   "metadata": {},
   "outputs": [],
   "source": [
    "with open(\"file1.txt\") as file1:\n",
    "    file1_data=file1.readlines()\n",
    " \n",
    "with open(\"file2.txt\") as file2:\n",
    "    file2_data=file2.readlines()\n",
    "\n",
    "result=[int(i.strip()) for i in file1_data if i in file2_data]\n",
    "print(result)\n",
    "    "
   ]
  },
  {
   "cell_type": "markdown",
   "id": "2dbad504",
   "metadata": {},
   "source": [
    "## Dictionary comprehension"
   ]
  },
  {
   "cell_type": "code",
   "execution_count": null,
   "id": "68202fc7",
   "metadata": {},
   "outputs": [],
   "source": [
    "new_dict={new_key:new_value for item in list}\n",
    "\n",
    "new_dict={new_key:new_value for (key,value) in dict.items()}\n"
   ]
  },
  {
   "cell_type": "code",
   "execution_count": null,
   "id": "cc1da6f9",
   "metadata": {},
   "outputs": [],
   "source": [
    "import random\n",
    "names=['ayush','alok','aman','kishan','yash']\n",
    "students_scores={name:random.randint(60,100) for name in names}\n",
    "print(students_scores)"
   ]
  },
  {
   "cell_type": "markdown",
   "id": "8a01293f",
   "metadata": {},
   "source": [
    "### conditional dictionary comprehension"
   ]
  },
  {
   "cell_type": "code",
   "execution_count": null,
   "id": "07f67eac",
   "metadata": {},
   "outputs": [],
   "source": [
    "passed_students={key:value for (key,value) in students_scores.items() if value>75}\n",
    "print(passed_students)"
   ]
  },
  {
   "cell_type": "code",
   "execution_count": null,
   "id": "8093d750",
   "metadata": {},
   "outputs": [],
   "source": [
    "sentence = \"What is the Airspeed Velocity of an Unladen Swallow?\"\n",
    "result={key:len(key) for key in sentence.split()  }\n",
    "print(result)"
   ]
  },
  {
   "cell_type": "code",
   "execution_count": null,
   "id": "56765286",
   "metadata": {},
   "outputs": [],
   "source": [
    "weather_c = {\n",
    "    \"Monday\": 12,\n",
    "    \"Tuesday\": 14,\n",
    "    \"Wednesday\": 15,\n",
    "    \"Thursday\": 14,\n",
    "    \"Friday\": 21,\n",
    "    \"Saturday\": 22,\n",
    "    \"Sunday\": 24,\n",
    "}\n",
    "\n",
    "weather_f={key:(temp_c * 9/5) + 32 for (key,temp_c) in weather_c.items()}\n",
    "\n",
    "print(weather_f)\n"
   ]
  },
  {
   "cell_type": "markdown",
   "id": "22c2d15b",
   "metadata": {},
   "source": [
    "## iterate over a Pandas timeframe"
   ]
  },
  {
   "cell_type": "code",
   "execution_count": 1,
   "id": "53631d78",
   "metadata": {},
   "outputs": [
    {
     "name": "stdout",
     "output_type": "stream",
     "text": [
      "['wngela', 'jaems', 'lily']\n",
      "[56, 34, 23]\n",
      "  student  score\n",
      "0  wngela     56\n",
      "1   jaems     34\n",
      "2    lily     23\n"
     ]
    }
   ],
   "source": [
    "student_dict={\n",
    "    \"student\":[\"wngela\",'jaems','lily'],\n",
    "    \"score\":[56,34,23]\n",
    "}\n",
    "\n",
    "for (key,value) in student_dict.items():\n",
    "    print(value)\n",
    "\n",
    "import pandas as pd\n",
    "student_dataframe=pd.DataFrame(student_dict)\n",
    "print(student_dataframe)"
   ]
  },
  {
   "cell_type": "code",
   "execution_count": 3,
   "id": "cf3b193f",
   "metadata": {},
   "outputs": [
    {
     "name": "stdout",
     "output_type": "stream",
     "text": [
      "56\n",
      "student    wngela\n",
      "score          56\n",
      "Name: 0, dtype: object\n",
      "34\n",
      "student    jaems\n",
      "score         34\n",
      "Name: 1, dtype: object\n",
      "23\n",
      "student    lily\n",
      "score        23\n",
      "Name: 2, dtype: object\n"
     ]
    }
   ],
   "source": [
    "# for (key,value) in student_dataframe.items():\n",
    "#     print(value)\n",
    "\n",
    "#loops through rows of a data frame\n",
    "for (index,row) in student_dataframe.iterrows():\n",
    "    print(row.score)\n",
    "    print(row)\n",
    "    \n"
   ]
  }
 ],
 "metadata": {
  "kernelspec": {
   "display_name": "Python 3",
   "language": "python",
   "name": "python3"
  },
  "language_info": {
   "codemirror_mode": {
    "name": "ipython",
    "version": 3
   },
   "file_extension": ".py",
   "mimetype": "text/x-python",
   "name": "python",
   "nbconvert_exporter": "python",
   "pygments_lexer": "ipython3",
   "version": "3.13.2"
  }
 },
 "nbformat": 4,
 "nbformat_minor": 5
}
