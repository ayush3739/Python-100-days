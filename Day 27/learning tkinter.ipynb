{
 "cells": [
  {
   "cell_type": "markdown",
   "id": "e7cf783e",
   "metadata": {},
   "source": [
    "documentation of tkinter:- http://tcl.tk/man/tcl8.6/TkCmd/entry.htm\n"
   ]
  },
  {
   "cell_type": "markdown",
   "id": "482292f4",
   "metadata": {},
   "source": [
    "### creating windows and label"
   ]
  },
  {
   "cell_type": "code",
   "execution_count": 16,
   "id": "3fa76aec",
   "metadata": {},
   "outputs": [],
   "source": [
    "from tkinter import *\n",
    "win=Tk()\n",
    "\n",
    "win.title(\"Game\")\n",
    "win.minsize(width=500,height=300)\n",
    "\n",
    "#Label\n",
    "my_label=Label(text=\"I am a label\",font=(\"Arial\",24,\"bold\"),fg=\"green\")\n",
    "my_label.pack(side=\"top\",expand=True)\n",
    "\n",
    "# my_label[\"text\"]=\"label\"\n",
    "# my_label.config(text=\"calculator\")\n",
    "\n",
    "\n",
    "# button \n",
    "but1=Button(text=\"value\",fg=\"blue\",)\n",
    "but1.pack()\n",
    "\n",
    "\n",
    "win.mainloop()\n"
   ]
  },
  {
   "cell_type": "markdown",
   "id": "7a9f3a74",
   "metadata": {},
   "source": [
    "### args_many Positional Arguments"
   ]
  },
  {
   "cell_type": "code",
   "execution_count": null,
   "id": "ff0272f5",
   "metadata": {},
   "outputs": [],
   "source": [
    "def add(*args):\n",
    "    for i in args:\n",
    "        print(i)\n",
    "\n",
    "add(3,5,7,8)\n",
    "\n",
    "def add_num(*args):\n",
    "    s=0\n",
    "    for i in args:\n",
    "        s+=i\n",
    "    return s\n",
    "add_num(3,7,5,4,1)\n"
   ]
  },
  {
   "cell_type": "code",
   "execution_count": 2,
   "id": "e7f99c35",
   "metadata": {},
   "outputs": [
    {
     "name": "stdout",
     "output_type": "stream",
     "text": [
      "<class 'tuple'>\n",
      "5\n"
     ]
    }
   ],
   "source": [
    "def add(*args):\n",
    "    print(type(args))\n",
    "    print(args[1])\n",
    "\n",
    "add(3,5,7,8)\n"
   ]
  },
  {
   "cell_type": "markdown",
   "id": "64288c47",
   "metadata": {},
   "source": [
    "### **kwargs: Many keyworded Arguments"
   ]
  },
  {
   "cell_type": "code",
   "execution_count": 12,
   "id": "ae0b395d",
   "metadata": {},
   "outputs": [
    {
     "name": "stdout",
     "output_type": "stream",
     "text": [
      "<class 'type'>\n",
      "{'add': 3, 'multiply': 5}\n",
      "add\n",
      "3\n",
      "multiply\n",
      "5\n",
      "25\n"
     ]
    }
   ],
   "source": [
    "def calculate(n,**kwargs):\n",
    "    print(type)\n",
    "    print(kwargs)\n",
    "    for key,value in kwargs.items():\n",
    "        print(key)\n",
    "        print(value)\n",
    "\n",
    "    n+= kwargs[\"add\"]\n",
    "    n*=kwargs[\"multiply\"]\n",
    "    print(n)\n",
    "\n",
    "    \n",
    "\n",
    "calculate(2,add=3,multiply=5)\n"
   ]
  }
 ],
 "metadata": {
  "kernelspec": {
   "display_name": "Python 3",
   "language": "python",
   "name": "python3"
  },
  "language_info": {
   "codemirror_mode": {
    "name": "ipython",
    "version": 3
   },
   "file_extension": ".py",
   "mimetype": "text/x-python",
   "name": "python",
   "nbconvert_exporter": "python",
   "pygments_lexer": "ipython3",
   "version": "3.13.2"
  }
 },
 "nbformat": 4,
 "nbformat_minor": 5
}
