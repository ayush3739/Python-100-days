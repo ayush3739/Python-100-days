{
 "cells": [
  {
   "cell_type": "markdown",
   "id": "f031a5b5",
   "metadata": {},
   "source": [
    "Google Sheet Data Management - https://sheety.co/\n",
    "\n",
    "Amadeus Flight Search API (Free Signup, Credit Card not required) - https://developers.amadeus.com/\n",
    "\n",
    "Amadeus Flight Offer Docs - https://developers.amadeus.com/self-service/category/flights/api-doc/flight-offers-search/api-reference\n",
    "\n",
    "Amadeus How to work with API keys and tokens guide - https://developers.amadeus.com/get-started/get-started-with-self-service-apis-335\n",
    "\n",
    "Amadeus Search for Airport Codes by City name - https://developers.amadeus.com/self-service/category/destination-experiences/api-doc/city-search/api-reference\n",
    "\n",
    "Twilio Messaging (SMS or WhatsApp) API - https://www.twilio.com/docs/messaging/quickstart/python\n",
    "\n",
    "\n",
    "\n",
    "Program Requirements\n",
    "Use the Flight Search and Sheety API to populate your own copy of the Google Sheet with International Air Transport Association (IATA) codes for each city. Most of the cities in the sheet include multiple airports, you want the city code (not the airport code see here).\n",
    "\n",
    "Use the Flight Search API to check for the cheapest flights from tomorrow to 6 months later for all the cities in the Google Sheet.\n",
    "\n",
    "If the price is lower than the lowest price listed in the Google Sheet then send an SMS (or WhatsApp Message) to your own number using the Twilio API.\n",
    "\n",
    "The SMS should include the departure airport IATA code, destination airport IATA code, flight price and flight dates. e.g.\n",
    "\n",
    "\n",
    "Here's what it looks like with WhatsApp:\n",
    "\n",
    "\n",
    "Notes and Gotchas\n",
    "Avoid hitting your rate limit on your trial accounts by not using too many destination airports in your google Sheet (use 5 or at most 10)\n",
    "\n",
    "Also, the test Amadeus test API does not include all airports. You may not be able to retrieve prices for many routes flights. Try and stick to popular airports while practicing. \n",
    "\n",
    "\n",
    "\n",
    "Toggle these options when setting up with Sheety\n",
    "\n",
    "\n",
    "Sheety API\n",
    "\n",
    "Avoid making too many unnecessary requests with the Sheety API while testing your code. The free tier for the Sheety API only allows 200 requests per month."
   ]
  }
 ],
 "metadata": {
  "language_info": {
   "name": "python"
  }
 },
 "nbformat": 4,
 "nbformat_minor": 5
}
