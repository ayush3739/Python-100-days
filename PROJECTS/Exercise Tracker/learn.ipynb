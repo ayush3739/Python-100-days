{
 "cells": [
  {
   "cell_type": "markdown",
   "id": "893ced86",
   "metadata": {},
   "source": [
    "Making a exercise TRacker which will give calories "
   ]
  },
  {
   "cell_type": "markdown",
   "id": "a6240541",
   "metadata": {},
   "source": [
    "Nutritionix DOCS:- https://trackapi.nutritionix.com/docs/#/default/post_v2_natural_exercise \n",
    "docs:- https://docx.syndigo.com/developers/docs/natural-language-for-exercise#request"
   ]
  },
  {
   "cell_type": "markdown",
   "id": "ead7ec0c",
   "metadata": {},
   "source": [
    "api_endpoints=\"https://trackapi.nutritionix.com/v2/natural/exercise\""
   ]
  },
  {
   "cell_type": "markdown",
   "id": "c614b794",
   "metadata": {},
   "source": [
    "### Parameters "
   ]
  },
  {
   "cell_type": "code",
   "execution_count": null,
   "id": "4e684b3d",
   "metadata": {},
   "outputs": [],
   "source": [
    "\n",
    "headers={\n",
    "    \"x-app-id\":APP_ID,\n",
    "    \"x-app-key\":API_KEY,\n",
    "    \n",
    "}\n",
    "parameters={\n",
    "    \"query\":query,\n",
    "    \"gender\":\"male\",\n",
    "    \"height_cm\":Height,\n",
    "    \"weight_kg\":WEIGHT,\n",
    "    \"age\":AGE\n",
    "}"
   ]
  },
  {
   "cell_type": "markdown",
   "id": "bdbeaa83",
   "metadata": {},
   "source": [
    "### output should be like this :"
   ]
  },
  {
   "cell_type": "code",
   "execution_count": null,
   "id": "82523d17",
   "metadata": {},
   "outputs": [],
   "source": [
    "{'exercises': [{'tag_id': 497, 'user_input': 'gaming', 'duration_min': 120, 'met': 1, 'nf_calories': 100, 'photo': {'highres': 'https://d2xdmhkmkbyw75.cloudfront.net/exercise/497_highres.jpg', 'thumb': 'https://d2xdmhkmkbyw75.cloudfront.net/exercise/497_thumb.jpg', 'is_user_uploaded': False}, 'compendium_code': 9045, 'name': 'playing video games', 'description': None, 'benefits': None}, {'tag_id': 824, 'user_input': 'pushup', 'duration_min': 30, 'met': 3.8, 'nf_calories': 95, 'photo': {'highres': 'https://d2xdmhkmkbyw75.cloudfront.net/exercise/824_highres.jpg', 'thumb': 'https://d2xdmhkmkbyw75.cloudfront.net/exercise/824_thumb.jpg', 'is_user_uploaded': False}, 'compendium_code': 2022, 'name': 'push-up', 'description': None, 'benefits': None}]}"
   ]
  },
  {
   "cell_type": "code",
   "execution_count": 9,
   "id": "c31361ff",
   "metadata": {},
   "outputs": [
    {
     "name": "stdout",
     "output_type": "stream",
     "text": [
      "20:26:16\n",
      "21/09/2025\n"
     ]
    }
   ],
   "source": [
    "from datetime import datetime \n",
    "\n",
    "now = datetime.now()\n",
    "date = now.strftime(\"%d/%m/%Y\")\n",
    "\n",
    "time=now.strftime(\"%H:%M:%S\")\n",
    "print(time)\n",
    "\n",
    "print(date)\n"
   ]
  }
 ],
 "metadata": {
  "kernelspec": {
   "display_name": "Python 3",
   "language": "python",
   "name": "python3"
  },
  "language_info": {
   "codemirror_mode": {
    "name": "ipython",
    "version": 3
   },
   "file_extension": ".py",
   "mimetype": "text/x-python",
   "name": "python",
   "nbconvert_exporter": "python",
   "pygments_lexer": "ipython3",
   "version": "3.13.2"
  }
 },
 "nbformat": 4,
 "nbformat_minor": 5
}
