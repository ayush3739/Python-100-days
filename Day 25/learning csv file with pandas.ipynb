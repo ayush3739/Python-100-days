{
 "cells": [
  {
   "cell_type": "markdown",
   "id": "8cfa5170",
   "metadata": {},
   "source": [
    "## learning csv file with pandas"
   ]
  },
  {
   "cell_type": "code",
   "execution_count": null,
   "id": "f6e998cf",
   "metadata": {},
   "outputs": [],
   "source": [
    "# with open(\"Day 25/226 weather-data.csv\") as file:\n",
    "#     data=file.readlines()\n",
    "#     print(data)\n",
    "\n",
    "import csv\n",
    "with open(\"Day 25/226 weather-data.csv\") as file:\n",
    "    data= csv.reader(file)\n",
    "    temperatures=[]\n",
    "    for row in data:\n",
    "        if row[1] !='temp':\n",
    "            temperatures.append(int(row[1]))\n",
    "    print(temperatures)"
   ]
  },
  {
   "cell_type": "markdown",
   "id": "3a2806ea",
   "metadata": {},
   "source": [
    "for only printing a column we have to write so much line of code"
   ]
  },
  {
   "cell_type": "markdown",
   "id": "652e5021",
   "metadata": {},
   "source": [
    "this is why we use Panda library"
   ]
  },
  {
   "cell_type": "markdown",
   "id": "b3f8c7f5",
   "metadata": {},
   "source": [
    "DOcumentation:- https://pandas.pydata.org/docs/\n"
   ]
  },
  {
   "cell_type": "code",
   "execution_count": 14,
   "id": "bf7a41fe",
   "metadata": {},
   "outputs": [
    {
     "name": "stdout",
     "output_type": "stream",
     "text": [
      "<class 'pandas.core.frame.DataFrame'>\n",
      "<class 'pandas.core.series.Series'>\n",
      "0    12\n",
      "1    14\n",
      "2    15\n",
      "3    14\n",
      "4    21\n",
      "5    22\n",
      "6    24\n",
      "Name: temp, dtype: int64\n"
     ]
    }
   ],
   "source": [
    "import pandas  as pd\n",
    "data=pd.read_csv(\"weather-data.csv\")\n",
    "print(type(data))\n",
    "print(type(data[\"temp\"]))\n",
    "print(data[\"temp\"])"
   ]
  },
  {
   "cell_type": "code",
   "execution_count": null,
   "id": "772caed1",
   "metadata": {},
   "outputs": [],
   "source": [
    "data_dict=data.to_dict()\n",
    "print(data_dict)"
   ]
  },
  {
   "cell_type": "code",
   "execution_count": null,
   "id": "a4aea0f4",
   "metadata": {},
   "outputs": [],
   "source": [
    "temp_list=data[\"temp\"].to_list()\n",
    "\n",
    "print(data[\"temp\"].max())"
   ]
  },
  {
   "cell_type": "markdown",
   "id": "d5541344",
   "metadata": {},
   "source": [
    "Get data in column"
   ]
  },
  {
   "cell_type": "code",
   "execution_count": null,
   "id": "dd569da0",
   "metadata": {},
   "outputs": [],
   "source": [
    "print(data['condition'])\n",
    "print(data.condition)"
   ]
  },
  {
   "cell_type": "markdown",
   "id": "ea179241",
   "metadata": {},
   "source": [
    "Get data in row"
   ]
  },
  {
   "cell_type": "code",
   "execution_count": null,
   "id": "3a29a00c",
   "metadata": {},
   "outputs": [],
   "source": [
    "print(data[data.day ==\"Monday\"])"
   ]
  },
  {
   "cell_type": "code",
   "execution_count": null,
   "id": "e732d34e",
   "metadata": {},
   "outputs": [],
   "source": [
    "print(data[data.temp == data.temp.max()])"
   ]
  },
  {
   "cell_type": "code",
   "execution_count": null,
   "id": "687d0af3",
   "metadata": {},
   "outputs": [],
   "source": [
    "monday=data[data.day ==\"Monday\"]\n",
    "monday_temp =int(monday.temp)\n",
    "monday_temp_f= monday_temp*9/5 +32\n",
    "print(monday_temp_f)"
   ]
  },
  {
   "cell_type": "markdown",
   "id": "be8b4769",
   "metadata": {},
   "source": [
    "## Creating a Dataframe"
   ]
  },
  {
   "cell_type": "code",
   "execution_count": 17,
   "id": "a550185d",
   "metadata": {},
   "outputs": [
    {
     "name": "stdout",
     "output_type": "stream",
     "text": [
      "  students  score\n",
      "0      amy     76\n",
      "1   rohaan     59\n",
      "2     loki     85\n"
     ]
    }
   ],
   "source": [
    "data_dict={\n",
    "    \"students\": [\"amy\",\"rohaan\",\"loki\"],\n",
    "    \"score\":[76,59,85]\n",
    "                 \n",
    "}\n",
    "data=pd.DataFrame(data_dict)\n",
    "print(data)\n",
    "\n",
    "data.to_csv(\"new_data.csv\")\n"
   ]
  }
 ],
 "metadata": {
  "kernelspec": {
   "display_name": "Python 3",
   "language": "python",
   "name": "python3"
  },
  "language_info": {
   "codemirror_mode": {
    "name": "ipython",
    "version": 3
   },
   "file_extension": ".py",
   "mimetype": "text/x-python",
   "name": "python",
   "nbconvert_exporter": "python",
   "pygments_lexer": "ipython3",
   "version": "3.12.1"
  }
 },
 "nbformat": 4,
 "nbformat_minor": 5
}
