{
 "cells": [
  {
   "cell_type": "markdown",
   "id": "008d859a",
   "metadata": {},
   "source": [
    "## constructing an  object "
   ]
  },
  {
   "cell_type": "code",
   "execution_count": null,
   "id": "e2d5280b",
   "metadata": {},
   "outputs": [
    {
     "ename": "TclError",
     "evalue": "no display name and no $DISPLAY environment variable",
     "output_type": "error",
     "traceback": [
      "\u001b[31m---------------------------------------------------------------------------\u001b[39m",
      "\u001b[31mTclError\u001b[39m                                  Traceback (most recent call last)",
      "\u001b[36mCell\u001b[39m\u001b[36m \u001b[39m\u001b[32mIn[3]\u001b[39m\u001b[32m, line 2\u001b[39m\n\u001b[32m      1\u001b[39m \u001b[38;5;28;01mfrom\u001b[39;00m\u001b[38;5;250m \u001b[39m\u001b[34;01mturtle\u001b[39;00m\u001b[38;5;250m \u001b[39m\u001b[38;5;28;01mimport\u001b[39;00m Turtle, Screen\n\u001b[32m----> \u001b[39m\u001b[32m2\u001b[39m timmy = \u001b[43mTurtle\u001b[49m\u001b[43m(\u001b[49m\u001b[43m)\u001b[49m\n\u001b[32m      3\u001b[39m \u001b[38;5;28mprint\u001b[39m(\u001b[33m\"\u001b[39m\u001b[33mhello world\u001b[39m\u001b[33m\"\u001b[39m)\n\u001b[32m      5\u001b[39m my_screen = Screen()\n",
      "\u001b[36mFile \u001b[39m\u001b[32m/usr/local/python/3.12.1/lib/python3.12/turtle.py:3875\u001b[39m, in \u001b[36mTurtle.__init__\u001b[39m\u001b[34m(self, shape, undobuffersize, visible)\u001b[39m\n\u001b[32m   3870\u001b[39m \u001b[38;5;28;01mdef\u001b[39;00m\u001b[38;5;250m \u001b[39m\u001b[34m__init__\u001b[39m(\u001b[38;5;28mself\u001b[39m,\n\u001b[32m   3871\u001b[39m              shape=_CFG[\u001b[33m\"\u001b[39m\u001b[33mshape\u001b[39m\u001b[33m\"\u001b[39m],\n\u001b[32m   3872\u001b[39m              undobuffersize=_CFG[\u001b[33m\"\u001b[39m\u001b[33mundobuffersize\u001b[39m\u001b[33m\"\u001b[39m],\n\u001b[32m   3873\u001b[39m              visible=_CFG[\u001b[33m\"\u001b[39m\u001b[33mvisible\u001b[39m\u001b[33m\"\u001b[39m]):\n\u001b[32m   3874\u001b[39m     \u001b[38;5;28;01mif\u001b[39;00m Turtle._screen \u001b[38;5;129;01mis\u001b[39;00m \u001b[38;5;28;01mNone\u001b[39;00m:\n\u001b[32m-> \u001b[39m\u001b[32m3875\u001b[39m         Turtle._screen = \u001b[43mScreen\u001b[49m\u001b[43m(\u001b[49m\u001b[43m)\u001b[49m\n\u001b[32m   3876\u001b[39m     RawTurtle.\u001b[34m__init__\u001b[39m(\u001b[38;5;28mself\u001b[39m, Turtle._screen,\n\u001b[32m   3877\u001b[39m                        shape=shape,\n\u001b[32m   3878\u001b[39m                        undobuffersize=undobuffersize,\n\u001b[32m   3879\u001b[39m                        visible=visible)\n",
      "\u001b[36mFile \u001b[39m\u001b[32m/usr/local/python/3.12.1/lib/python3.12/turtle.py:3730\u001b[39m, in \u001b[36mScreen\u001b[39m\u001b[34m()\u001b[39m\n\u001b[32m   3726\u001b[39m \u001b[38;5;250m\u001b[39m\u001b[33;03m\"\"\"Return the singleton screen object.\u001b[39;00m\n\u001b[32m   3727\u001b[39m \u001b[33;03mIf none exists at the moment, create a new one and return it,\u001b[39;00m\n\u001b[32m   3728\u001b[39m \u001b[33;03melse return the existing one.\"\"\"\u001b[39;00m\n\u001b[32m   3729\u001b[39m \u001b[38;5;28;01mif\u001b[39;00m Turtle._screen \u001b[38;5;129;01mis\u001b[39;00m \u001b[38;5;28;01mNone\u001b[39;00m:\n\u001b[32m-> \u001b[39m\u001b[32m3730\u001b[39m     Turtle._screen = \u001b[43m_Screen\u001b[49m\u001b[43m(\u001b[49m\u001b[43m)\u001b[49m\n\u001b[32m   3731\u001b[39m \u001b[38;5;28;01mreturn\u001b[39;00m Turtle._screen\n",
      "\u001b[36mFile \u001b[39m\u001b[32m/usr/local/python/3.12.1/lib/python3.12/turtle.py:3741\u001b[39m, in \u001b[36m_Screen.__init__\u001b[39m\u001b[34m(self)\u001b[39m\n\u001b[32m   3739\u001b[39m \u001b[38;5;28;01mdef\u001b[39;00m\u001b[38;5;250m \u001b[39m\u001b[34m__init__\u001b[39m(\u001b[38;5;28mself\u001b[39m):\n\u001b[32m   3740\u001b[39m     \u001b[38;5;28;01mif\u001b[39;00m _Screen._root \u001b[38;5;129;01mis\u001b[39;00m \u001b[38;5;28;01mNone\u001b[39;00m:\n\u001b[32m-> \u001b[39m\u001b[32m3741\u001b[39m         _Screen._root = \u001b[38;5;28mself\u001b[39m._root = \u001b[43m_Root\u001b[49m\u001b[43m(\u001b[49m\u001b[43m)\u001b[49m\n\u001b[32m   3742\u001b[39m         \u001b[38;5;28mself\u001b[39m._root.title(_Screen._title)\n\u001b[32m   3743\u001b[39m         \u001b[38;5;28mself\u001b[39m._root.ondestroy(\u001b[38;5;28mself\u001b[39m._destroy)\n",
      "\u001b[36mFile \u001b[39m\u001b[32m/usr/local/python/3.12.1/lib/python3.12/turtle.py:430\u001b[39m, in \u001b[36m_Root.__init__\u001b[39m\u001b[34m(self)\u001b[39m\n\u001b[32m    429\u001b[39m \u001b[38;5;28;01mdef\u001b[39;00m\u001b[38;5;250m \u001b[39m\u001b[34m__init__\u001b[39m(\u001b[38;5;28mself\u001b[39m):\n\u001b[32m--> \u001b[39m\u001b[32m430\u001b[39m     \u001b[43mTK\u001b[49m\u001b[43m.\u001b[49m\u001b[43mTk\u001b[49m\u001b[43m.\u001b[49m\u001b[34;43m__init__\u001b[39;49m\u001b[43m(\u001b[49m\u001b[38;5;28;43mself\u001b[39;49m\u001b[43m)\u001b[49m\n",
      "\u001b[36mFile \u001b[39m\u001b[32m/usr/local/python/3.12.1/lib/python3.12/tkinter/__init__.py:2340\u001b[39m, in \u001b[36mTk.__init__\u001b[39m\u001b[34m(self, screenName, baseName, className, useTk, sync, use)\u001b[39m\n\u001b[32m   2338\u001b[39m         baseName = baseName + ext\n\u001b[32m   2339\u001b[39m interactive = \u001b[38;5;28;01mFalse\u001b[39;00m\n\u001b[32m-> \u001b[39m\u001b[32m2340\u001b[39m \u001b[38;5;28mself\u001b[39m.tk = \u001b[43m_tkinter\u001b[49m\u001b[43m.\u001b[49m\u001b[43mcreate\u001b[49m\u001b[43m(\u001b[49m\u001b[43mscreenName\u001b[49m\u001b[43m,\u001b[49m\u001b[43m \u001b[49m\u001b[43mbaseName\u001b[49m\u001b[43m,\u001b[49m\u001b[43m \u001b[49m\u001b[43mclassName\u001b[49m\u001b[43m,\u001b[49m\u001b[43m \u001b[49m\u001b[43minteractive\u001b[49m\u001b[43m,\u001b[49m\u001b[43m \u001b[49m\u001b[43mwantobjects\u001b[49m\u001b[43m,\u001b[49m\u001b[43m \u001b[49m\u001b[43museTk\u001b[49m\u001b[43m,\u001b[49m\u001b[43m \u001b[49m\u001b[43msync\u001b[49m\u001b[43m,\u001b[49m\u001b[43m \u001b[49m\u001b[43muse\u001b[49m\u001b[43m)\u001b[49m\n\u001b[32m   2341\u001b[39m \u001b[38;5;28;01mif\u001b[39;00m useTk:\n\u001b[32m   2342\u001b[39m     \u001b[38;5;28mself\u001b[39m._loadtk()\n",
      "\u001b[31mTclError\u001b[39m: no display name and no $DISPLAY environment variable"
     ]
    }
   ],
   "source": [
    "from turtle import Turtle, Screen\n",
    "timmy = Turtle()\n",
    "print(timmy)\n",
    "my_screen = Screen()\n",
    "print(my_screen.canvheight)\n",
    "my_screen.exitonclick()"
   ]
  }
 ],
 "metadata": {
  "kernelspec": {
   "display_name": "Python 3",
   "language": "python",
   "name": "python3"
  },
  "language_info": {
   "codemirror_mode": {
    "name": "ipython",
    "version": 3
   },
   "file_extension": ".py",
   "mimetype": "text/x-python",
   "name": "python",
   "nbconvert_exporter": "python",
   "pygments_lexer": "ipython3",
   "version": "3.12.1"
  }
 },
 "nbformat": 4,
 "nbformat_minor": 5
}
