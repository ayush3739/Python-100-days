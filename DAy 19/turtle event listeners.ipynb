{
 "cells": [
  {
   "cell_type": "markdown",
   "id": "02b742de",
   "metadata": {},
   "source": [
    "turle event listeners"
   ]
  },
  {
   "cell_type": "code",
   "execution_count": null,
   "id": "ab9d3888",
   "metadata": {},
   "outputs": [],
   "source": [
    "from turtle import Turtle,Screen\n",
    "tim=Turtle()\n",
    "sc=Screen()\n",
    "def move():\n",
    "    tim.forward(20)\n",
    "def back():\n",
    "    tim.backward(20)\n",
    "\n",
    "def counter_clockwise():\n",
    "    new=tim.heading()+10\n",
    "    tim.setheading(new)\n",
    "def clockwise():\n",
    "    new=tim.heading()-10\n",
    "    tim.setheading(new)\n",
    "def clear():\n",
    "    tim.clear()\n",
    "    tim.penup()\n",
    "    tim.home()\n",
    "    tim.pendown()\n",
    "\n",
    "sc.listen()\n",
    "sc.onkey(key='w',fun=move) \n",
    "sc.onkey(key='s',fun=back) \n",
    "sc.onkey(key='a',fun=counter_clockwise) \n",
    "sc.onkey(key='d',fun=clockwise) \n",
    "sc.onkey(clear,'c')\n",
    "\n",
    "sc.exitonclick()"
   ]
  }
 ],
 "metadata": {
  "language_info": {
   "name": "python"
  }
 },
 "nbformat": 4,
 "nbformat_minor": 5
}
