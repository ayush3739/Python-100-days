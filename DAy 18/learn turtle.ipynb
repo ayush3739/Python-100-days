{
 "cells": [
  {
   "cell_type": "markdown",
   "id": "1970e195",
   "metadata": {},
   "source": [
    "python turtle documentation:- https://docs.python.org/3/library/turtle.html\n"
   ]
  },
  {
   "cell_type": "markdown",
   "id": "94bc1d24",
   "metadata": {},
   "source": [
    " ### learning turtle"
   ]
  },
  {
   "cell_type": "code",
   "execution_count": null,
   "id": "8fdd40a4",
   "metadata": {},
   "outputs": [],
   "source": [
    "from turtle import Turtle,Screen\n",
    "timmy=Turtle()\n",
    "sc=Screen()\n",
    "sc.exitonclick()"
   ]
  },
  {
   "cell_type": "code",
   "execution_count": null,
   "id": "1326aa91",
   "metadata": {},
   "outputs": [],
   "source": [
    "\n",
    "timmmy.shape('turtle')\n",
    "timmmy.color('deep sky blue')\n",
    "timmmy.forward(100)\n",
    "timmmy.right(90)\n",
    "\n",
    "sc.exitonclick()"
   ]
  },
  {
   "cell_type": "markdown",
   "id": "69ff0e95",
   "metadata": {},
   "source": [
    "drawing a square"
   ]
  },
  {
   "cell_type": "code",
   "execution_count": null,
   "id": "da7ff14f",
   "metadata": {},
   "outputs": [],
   "source": [
    "from turtle import Turtle,Screen\n",
    "timmy=Turtle()\n",
    "sc=Screen()\n",
    "\n",
    "timmy.forward(100)\n",
    "timmy.left(90)\n",
    "timmy.forward(100)\n",
    "timmy.left(90)\n",
    "timmy.forward(100)\n",
    "timmy.left(90)\n",
    "timmy.forward(100)\n",
    "\n",
    "sc.exitonclick()\n"
   ]
  },
  {
   "cell_type": "markdown",
   "id": "f08af653",
   "metadata": {},
   "source": [
    "### aliasing turtle or any module"
   ]
  },
  {
   "cell_type": "code",
   "execution_count": null,
   "id": "3504f47b",
   "metadata": {},
   "outputs": [],
   "source": [
    "import turtle as t\n",
    "tim=t.Turtle()\n"
   ]
  },
  {
   "cell_type": "markdown",
   "id": "d4f2d6ab",
   "metadata": {},
   "source": [
    "### making a dashed line ### - - - - - - - - - - - - ->\n"
   ]
  },
  {
   "cell_type": "code",
   "execution_count": null,
   "id": "06c78a03",
   "metadata": {},
   "outputs": [],
   "source": [
    "from turtle import Turtle,Screen\n",
    "tim=Turtle()\n",
    "sc=Screen()\n",
    "\n",
    "tim.shape('turtle')\n",
    "tim.color('deep sky blue')\n",
    "for _ in range(5):\n",
    "    tim.pendown()\n",
    "    tim.forward(10)\n",
    "    tim.penup()\n",
    "    tim.forward(10)\n",
    "\n",
    "sc.exitonclick()"
   ]
  },
  {
   "cell_type": "markdown",
   "id": "bd4dad61",
   "metadata": {},
   "source": [
    "turtle color pallete:- https://cs111.wellesley.edu/labs/lab01/colors\n"
   ]
  },
  {
   "cell_type": "code",
   "execution_count": null,
   "id": "93a4e661",
   "metadata": {},
   "outputs": [],
   "source": [
    "from turtle import Turtle,Screen\n",
    "import random\n",
    "tim=Turtle()\n",
    "sc=Screen()\n",
    "\n",
    "colours = [\"CornflowerBlue\", \"DarkOrchid\", \"IndianRed\", \"DeepSkyBlue\",\n",
    "            \"LightSeaGreen\", \"wheat\", \"SlateGray\", \"SeaGreen\"]\n",
    "tim.shape('turtle')\n",
    "tim.color('deep sky blue')\n",
    "def draw_shape(i):\n",
    "    degrees=360/i\n",
    "   \n",
    "    for _ in range(i):\n",
    "        tim.forward(100)\n",
    "        tim.right(degrees)\n",
    "for i in range(3,11):\n",
    "    tim.color(random.choice(colours))\n",
    "    draw_shape(i)\n",
    "\n",
    "\n",
    "sc.exitonclick()"
   ]
  },
  {
   "cell_type": "markdown",
   "id": "689b6c2c",
   "metadata": {},
   "source": [
    "### making the turtle move in random direction"
   ]
  },
  {
   "cell_type": "code",
   "execution_count": null,
   "id": "28aa7951",
   "metadata": {},
   "outputs": [],
   "source": [
    "from turtle import Turtle,Screen\n",
    "import random\n",
    "tim=Turtle()\n",
    "sc=Screen()\n",
    "sc.colormode(255)\n",
    "\n",
    "def random_color():\n",
    "    r=random.randint(0,255)\n",
    "    g=random.randint(0,255)\n",
    "    b=random.randint(0,255)\n",
    "    return (r,g,b)\n",
    "\n",
    "tim.pensize(10)\n",
    "directions=[0,90,180,270]\n",
    "tim.speed('fastest')\n",
    "\n",
    "\n",
    "for _ in range(200):\n",
    "    tim.color(random_color())\n",
    "    tim.forward(30)\n",
    "    tim.setheading(random.choice(directions))\n",
    "\n",
    "sc.exitonclick()"
   ]
  },
  {
   "cell_type": "markdown",
   "id": "0c15d2e6",
   "metadata": {},
   "source": [
    "### making a spirograph"
   ]
  },
  {
   "cell_type": "code",
   "execution_count": null,
   "id": "0cac2758",
   "metadata": {},
   "outputs": [],
   "source": [
    "from turtle import Turtle,Screen\n",
    "import random\n",
    "tim=Turtle()\n",
    "sc=Screen()\n",
    "sc.colormode(255)\n",
    "\n",
    "def random_color():\n",
    "    r=random.randint(0,255)\n",
    "    g=random.randint(0,255)\n",
    "    b=random.randint(0,255)\n",
    "    return (r,g,b)\n",
    "\n",
    "tim.speed(\"fastest\")\n",
    "\n",
    "def draw_spiro(size_of_gap):\n",
    "    for _ in range(int(360/size_of_gap)):\n",
    "        tim.color(random_color())\n",
    "        tim.circle(100)\n",
    "        tim.setheading(tim.heading()+10)\n",
    "        \n",
    "draw_spiro(3)\n",
    "\n",
    "\n",
    "sc.exitonclick()"
   ]
  },
  {
   "cell_type": "markdown",
   "id": "bf92434a",
   "metadata": {},
   "source": [
    "### extracting colors froma painting"
   ]
  },
  {
   "cell_type": "code",
   "execution_count": null,
   "id": "41d1616e",
   "metadata": {},
   "outputs": [],
   "source": [
    "import colorgram\n",
    "rgb_colors=[]\n",
    "colors = colorgram.extract('image.jpg', 30)\n",
    "for color in colors:\n",
    "    \n",
    "    r=color.rgb.r\n",
    "    g=color.rgb.g\n",
    "    b=color.rgb.b\n",
    "    new_color=(r,g,b)\n",
    "    rgb_colors.append(new_color)\n",
    "print(rgb_colors)"
   ]
  }
 ],
 "metadata": {
  "kernelspec": {
   "display_name": "Python 3",
   "language": "python",
   "name": "python3"
  },
  "language_info": {
   "codemirror_mode": {
    "name": "ipython",
    "version": 3
   },
   "file_extension": ".py",
   "mimetype": "text/x-python",
   "name": "python",
   "nbconvert_exporter": "python",
   "pygments_lexer": "ipython3",
   "version": "3.13.2"
  }
 },
 "nbformat": 4,
 "nbformat_minor": 5
}
