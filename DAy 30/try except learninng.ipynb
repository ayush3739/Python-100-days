{
 "cells": [
  {
   "cell_type": "markdown",
   "id": "547635d2",
   "metadata": {},
   "source": [
    "### helps in handling the error\n",
    "#### Try :- something that might cause an exception \\n\n",
    "#### Except:- do this is there is an exception \\n\n",
    "#### else:- if there were no exceptions\n",
    "#### finally :- do this no matter what happens\n"
   ]
  },
  {
   "cell_type": "code",
   "execution_count": null,
   "id": "53a03a8c",
   "metadata": {},
   "outputs": [],
   "source": [
    "#file not found\n",
    "# with open (\"A_file.txt\",\"r\") as file:\n",
    "#     file.read()\n",
    "\n",
    "try:\n",
    "    file=open(\"a_file.txt\")\n",
    "    a_dictionary={\"Key\":\"value\"}\n",
    "    print(a_dictionary[\"Key\"])\n",
    "except FileNotFoundError:\n",
    "    file=open(\"a_file.txt\",\"w\")\n",
    "    file.write(\"Something\")\n",
    "except KeyError as error_message:\n",
    "    print(f\"that key {error_message }  not exist \")\n",
    "\n",
    "else:\n",
    "    content=file.read()\n",
    "    print(content)\n",
    "\n",
    "finally:\n",
    "    file.close()\n",
    "    print(\"file was closed\")\n",
    "\n",
    "\n"
   ]
  },
  {
   "cell_type": "markdown",
   "id": "9f4c77af",
   "metadata": {},
   "source": [
    "for raising an error"
   ]
  },
  {
   "cell_type": "code",
   "execution_count": null,
   "id": "b13802eb",
   "metadata": {},
   "outputs": [],
   "source": [
    "# raise TypeError(\"this is an error that i made up\")\n",
    "raise KeyError"
   ]
  },
  {
   "cell_type": "code",
   "execution_count": null,
   "id": "ff5b4f7c",
   "metadata": {},
   "outputs": [
    {
     "name": "stdout",
     "output_type": "stream",
     "text": [
      "14.0\n"
     ]
    }
   ],
   "source": [
    "height=float(input(\"height:\"))\n",
    "weight=int(input(\"Weight: \"))\n",
    "\n",
    "if height>3:\n",
    "    raise ValueError(\"human height should not be over 3 meters\")\n",
    "\n",
    "bmi=weight/height **2\n",
    "print(bmi)"
   ]
  },
  {
   "cell_type": "code",
   "execution_count": null,
   "id": "3cf3eb70",
   "metadata": {},
   "outputs": [
    {
     "name": "stdout",
     "output_type": "stream",
     "text": [
      "67\n"
     ]
    }
   ],
   "source": [
    "facebook_posts = [\n",
    "    {'Likes': 21, 'Comments': 2}, \n",
    "    {'Likes': 13, 'Comments': 2, 'Shares': 1}, \n",
    "    {'Likes': 33, 'Comments': 8, 'Shares': 3}, \n",
    "    {'Comments': 4, 'Shares': 2}, \n",
    "    {'Comments': 1, 'Shares': 1}, \n",
    "    {'Likes': 19, 'Comments': 3}\n",
    "]\n",
    "\n",
    "total_likes = 0\n",
    "try:\n",
    "    for post in facebook_posts:\n",
    "        total_likes = total_likes + post['Likes']\n",
    "\n",
    "except KeyError:\n",
    "    total_likes+=0\n",
    "\n",
    "print(total_likes)  "
   ]
  },
  {
   "cell_type": "code",
   "execution_count": null,
   "id": "cbc68c87",
   "metadata": {},
   "outputs": [
    {
     "name": "stdout",
     "output_type": "stream",
     "text": [
      "{'A': 'Alfa', 'B': 'Bravo', 'C': 'Charlie', 'D': 'Delta', 'E': 'Echo', 'F': 'Foxtrot', 'G': 'Golf', 'H': 'Hotel', 'I': 'India', 'J': 'Juliet', 'K': 'Kilo', 'L': 'Lima', 'M': 'Mike', 'N': 'November', 'O': 'Oscar', 'P': 'Papa', 'Q': 'Quebec', 'R': 'Romeo', 'S': 'Sierra', 'T': 'Tango', 'U': 'Uniform', 'V': 'Victor', 'W': 'Whiskey', 'X': 'X-ray', 'Y': 'Yankee', 'Z': 'Zulu'}\n",
      "sorry only letters in the alphabet.\n",
      "['Alfa', 'Yankee', 'Uniform', 'Hotel', 'Sierra']\n"
     ]
    }
   ],
   "source": [
    "import pandas\n",
    "data= pandas.read_csv(\"nato_phonetic_alphabet.csv\")\n",
    "\n",
    "phonetic_dict={row.letter:row.code for  (index,row) in data.iterrows()}\n",
    "print(phonetic_dict)\n",
    "def gen_phonetic():\n",
    "    word=input(\"Enter a word : \").upper()\n",
    "    try:\n",
    "        output_list=[phonetic_dict[i] for i in word]\n",
    "        \n",
    "    except KeyError:\n",
    "        print(\"sorry only letters in the alphabet.\")\n",
    "        gen_phonetic( )\n",
    "    else:\n",
    "        print(output_list)\n",
    "gen_phonetic()"
   ]
  },
  {
   "cell_type": "markdown",
   "id": "5614b994",
   "metadata": {},
   "source": [
    "### learning json reading and writing"
   ]
  }
 ],
 "metadata": {
  "kernelspec": {
   "display_name": "Python 3",
   "language": "python",
   "name": "python3"
  },
  "language_info": {
   "codemirror_mode": {
    "name": "ipython",
    "version": 3
   },
   "file_extension": ".py",
   "mimetype": "text/x-python",
   "name": "python",
   "nbconvert_exporter": "python",
   "pygments_lexer": "ipython3",
   "version": "3.13.2"
  }
 },
 "nbformat": 4,
 "nbformat_minor": 5
}
